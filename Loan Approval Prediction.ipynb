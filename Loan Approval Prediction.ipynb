{
  "cells": [
    {
      "cell_type": "markdown",
      "source": [
        "# Loan Approval Prediction\n",
        "This project aims to predict whether a loan application will be approved or not based on applicant details.  \n",
        "We compare Logistic Regression, Decision Tree, and Random Forest models.\n"
      ],
      "metadata": {
        "id": "tkYNodnsluCv"
      }
    },
    {
      "cell_type": "markdown",
      "source": [
        "# Loan Approval Prediction Using Machine Learning\n"
      ],
      "metadata": {
        "id": "p_KL9Is8rmBj"
      }
    },
    {
      "cell_type": "markdown",
      "source": [
        "# 📌 Problem Statement\n",
        "Banks and financial institutions often receive thousands of loan applications.  \n",
        "Approving or rejecting loans manually is time-consuming and may lead to human errors.  \n",
        "\n"
      ],
      "metadata": {
        "id": "h8NztUyyrr-o"
      }
    },
    {
      "cell_type": "markdown",
      "source": [
        "**Objective**: Build a machine learning model that can predict whether a loan should be approved or not, based on applicant details.\n"
      ],
      "metadata": {
        "id": "KwM1gcd3sZWX"
      }
    },
    {
      "cell_type": "markdown",
      "source": [
        "## 📊 Dataset Description\n",
        "The dataset contains information about loan applicants such as:\n",
        "- Gender, Married, Education, Self_Employed, Credit_History\n",
        "- ApplicantIncome, CoapplicantIncome, LoanAmount, Loan_Amount_Term\n",
        "- Loan_Status (Target variable: Approved = 1, Not Approved = 0)\n",
        "\n",
        "---\n"
      ],
      "metadata": {
        "id": "-QY4YD-eshep"
      }
    },
    {
      "cell_type": "markdown",
      "source": [
        "## ⚙️ Methodology\n",
        "1. Load the dataset  \n",
        "2. Handle missing values  \n",
        "3. Encode categorical variables  \n",
        "4. Split data into **training** and **testing** sets  \n",
        "5. Train models:\n",
        "   - Logistic Regression  \n",
        "   - Decision Tree  \n",
        "   - Random Forest  \n",
        "6. Evaluate models using accuracy  \n",
        "7. Compare results  \n"
      ],
      "metadata": {
        "id": "2RlrzXnNsvqm"
      }
    },
    {
      "cell_type": "code",
      "source": [
        "from google.colab import drive\n",
        "drive.mount('/content/drive')\n"
      ],
      "metadata": {
        "colab": {
          "base_uri": "https://localhost:8080/"
        },
        "id": "wzxbI4Rbvkro",
        "outputId": "7c5cd856-5fdc-47c3-a9cd-ea4eb8f97e39"
      },
      "execution_count": 1,
      "outputs": [
        {
          "output_type": "stream",
          "name": "stdout",
          "text": [
            "Mounted at /content/drive\n"
          ]
        }
      ]
    },
    {
      "cell_type": "code",
      "source": [
        "# Step 1: Import Libraries\n",
        "import pandas as pd\n",
        "import numpy as np\n",
        "from sklearn.model_selection import train_test_split\n",
        "from sklearn.preprocessing import StandardScaler\n",
        "from sklearn.linear_model import LogisticRegression\n",
        "from sklearn.tree import DecisionTreeClassifier\n",
        "from sklearn.ensemble import RandomForestClassifier\n",
        "from sklearn.metrics import accuracy_score\n",
        "import pickle\n",
        "\n",
        "# Step 2: Load Dataset\n",
        "df = pd.read_csv('/content/drive/MyDrive/LoanApprovalPrediction.csv')\n",
        "\n",
        "# Step 3: Handle Missing Values\n",
        "df = df.fillna(df.mode().iloc[0])   # replaces NaN with most frequent values\n",
        "\n",
        "# Drop Loan_ID\n",
        "df = df.drop(\"Loan_ID\", axis=1)\n",
        "\n",
        "# Step 4: Convert categorical variables into numbers\n",
        "df = pd.get_dummies(df, drop_first=True)\n",
        "\n",
        "# Step 5: Split into features and target\n",
        "X = df.drop(\"Loan_Status_Y\", axis=1)   # target column is Loan_Status_Y\n",
        "y = df[\"Loan_Status_Y\"]\n",
        "\n",
        "\n",
        "# Step 6: Train-Test Split\n",
        "X_train, X_test, y_train, y_test = train_test_split(\n",
        "    X, y, test_size=0.2, random_state=42\n",
        ")\n",
        "\n",
        "# Step 7: Feature Scaling\n",
        "scaler = StandardScaler()\n",
        "X_train = scaler.fit_transform(X_train)\n",
        "X_test = scaler.transform(X_test)\n",
        "\n",
        "# ==============================\n",
        "# Logistic Regression\n",
        "# ==============================\n",
        "lr = LogisticRegression(max_iter=5000)\n",
        "lr.fit(X_train, y_train)\n",
        "y_pred_lr = lr.predict(X_test)\n",
        "acc_lr = accuracy_score(y_test, y_pred_lr)\n",
        "print(\"Logistic Regression Accuracy:\", round(acc_lr*100, 2), \"%\")\n",
        "\n",
        "# ==============================\n",
        "# Decision Tree\n",
        "# ==============================\n",
        "dt = DecisionTreeClassifier(random_state=42)\n",
        "dt.fit(X_train, y_train)\n",
        "y_pred_dt = dt.predict(X_test)\n",
        "acc_dt = accuracy_score(y_test, y_pred_dt)\n",
        "print(\"Decision Tree Accuracy:\", round(acc_dt*100, 2), \"%\")\n",
        "\n",
        "# ==============================\n",
        "# Random Forest\n",
        "# ==============================\n",
        "rf = RandomForestClassifier(random_state=42)\n",
        "rf.fit(X_train, y_train)\n",
        "y_pred_rf = rf.predict(X_test)\n",
        "acc_rf = accuracy_score(y_test, y_pred_rf)\n",
        "print(\"Random Forest Accuracy:\", round(acc_rf*100, 2), \"%\")\n",
        "\n",
        "# Step 8: Save Best Model\n",
        "with open(\"loan_model.pkl\", \"wb\") as f:\n",
        "    pickle.dump({\"model\": lr, \"scaler\": scaler, \"columns\": list(X.columns)}, f)\n",
        "\n",
        "print(\"✅ Model saved as loan_model.pkl\")\n"
      ],
      "metadata": {
        "colab": {
          "base_uri": "https://localhost:8080/"
        },
        "id": "Yk92vfT8tRyo",
        "outputId": "ca4e4023-95d9-4a9f-b26a-33d179f79e3f"
      },
      "execution_count": 2,
      "outputs": [
        {
          "output_type": "stream",
          "name": "stdout",
          "text": [
            "Logistic Regression Accuracy: 82.5 %\n",
            "Decision Tree Accuracy: 66.67 %\n",
            "Random Forest Accuracy: 81.67 %\n",
            "✅ Model saved as loan_model.pkl\n"
          ]
        }
      ]
    },
    {
      "cell_type": "code",
      "source": [
        "print(\"Summary of Model Accuracies:\")\n",
        "print(\"Logistic Regression:\", round(acc_lr*100, 2), \"%\")\n",
        "print(\"Decision Tree:\", round(acc_dt*100, 2), \"%\")\n",
        "print(\"Random Forest:\", round(acc_rf*100, 2), \"%\")\n",
        "\n",
        "# Find the best model\n",
        "accuracies = {\n",
        "    \"Logistic Regression\": acc_lr,\n",
        "    \"Decision Tree\": acc_dt,\n",
        "    \"Random Forest\": acc_rf\n",
        "}\n",
        "\n",
        "best_model = max(accuracies, key=accuracies.get)\n",
        "print(\"\\nConclusion: The best model is\", best_model,\n",
        "      \"with\", round(accuracies[best_model]*100, 2), \"% accuracy.\")\n"
      ],
      "metadata": {
        "colab": {
          "base_uri": "https://localhost:8080/"
        },
        "id": "VpjSc8CjpNpI",
        "outputId": "9b5f1c23-2572-4928-c6df-f4884fbdd987"
      },
      "execution_count": 5,
      "outputs": [
        {
          "output_type": "stream",
          "name": "stdout",
          "text": [
            "Summary of Model Accuracies:\n",
            "Logistic Regression: 82.5 %\n",
            "Decision Tree: 66.67 %\n",
            "Random Forest: 81.67 %\n",
            "\n",
            "Conclusion: The best model is Logistic Regression with 82.5 % accuracy.\n"
          ]
        }
      ]
    },
    {
      "cell_type": "code",
      "source": [
        "import pickle\n",
        "\n",
        "# After training your final model\n",
        "with open(\"loan_model.pkl\", \"wb\") as file:\n",
        "    pickle.dump(lr, file)\n"
      ],
      "metadata": {
        "id": "zZ81YWm-k7PX"
      },
      "execution_count": 3,
      "outputs": []
    },
    {
      "cell_type": "code",
      "source": [
        "from google.colab import files\n",
        "files.download(\"loan_model.pkl\")"
      ],
      "metadata": {
        "colab": {
          "base_uri": "https://localhost:8080/",
          "height": 17
        },
        "id": "uY7cGXY4q6is",
        "outputId": "6834fcb7-359d-4dd6-e748-eb9d91f299f3"
      },
      "execution_count": 4,
      "outputs": [
        {
          "output_type": "display_data",
          "data": {
            "text/plain": [
              "<IPython.core.display.Javascript object>"
            ],
            "application/javascript": [
              "\n",
              "    async function download(id, filename, size) {\n",
              "      if (!google.colab.kernel.accessAllowed) {\n",
              "        return;\n",
              "      }\n",
              "      const div = document.createElement('div');\n",
              "      const label = document.createElement('label');\n",
              "      label.textContent = `Downloading \"${filename}\": `;\n",
              "      div.appendChild(label);\n",
              "      const progress = document.createElement('progress');\n",
              "      progress.max = size;\n",
              "      div.appendChild(progress);\n",
              "      document.body.appendChild(div);\n",
              "\n",
              "      const buffers = [];\n",
              "      let downloaded = 0;\n",
              "\n",
              "      const channel = await google.colab.kernel.comms.open(id);\n",
              "      // Send a message to notify the kernel that we're ready.\n",
              "      channel.send({})\n",
              "\n",
              "      for await (const message of channel.messages) {\n",
              "        // Send a message to notify the kernel that we're ready.\n",
              "        channel.send({})\n",
              "        if (message.buffers) {\n",
              "          for (const buffer of message.buffers) {\n",
              "            buffers.push(buffer);\n",
              "            downloaded += buffer.byteLength;\n",
              "            progress.value = downloaded;\n",
              "          }\n",
              "        }\n",
              "      }\n",
              "      const blob = new Blob(buffers, {type: 'application/binary'});\n",
              "      const a = document.createElement('a');\n",
              "      a.href = window.URL.createObjectURL(blob);\n",
              "      a.download = filename;\n",
              "      div.appendChild(a);\n",
              "      a.click();\n",
              "      div.remove();\n",
              "    }\n",
              "  "
            ]
          },
          "metadata": {}
        },
        {
          "output_type": "display_data",
          "data": {
            "text/plain": [
              "<IPython.core.display.Javascript object>"
            ],
            "application/javascript": [
              "download(\"download_de52bb8b-b1e5-4609-9466-2e583dbf928a\", \"loan_model.pkl\", 800)"
            ]
          },
          "metadata": {}
        }
      ]
    }
  ],
  "metadata": {
    "colab": {
      "provenance": []
    },
    "kernelspec": {
      "display_name": "Python 3",
      "name": "python3"
    },
    "language_info": {
      "name": "python"
    }
  },
  "nbformat": 4,
  "nbformat_minor": 0
}